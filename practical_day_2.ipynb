{
 "cells": [
  {
   "cell_type": "code",
   "execution_count": 1,
   "id": "3ae65cd5-9d66-4a89-957f-cfbc7da74231",
   "metadata": {},
   "outputs": [
    {
     "name": "stdout",
     "output_type": "stream",
     "text": [
      "[1, 3, 5, 7, 9, 11, 13, 15, 17, 19, 21, 23, 25, 27, 29, 31, 33, 35, 37, 39, 41, 43, 45, 47, 49, 51, 53, 55, 57, 59, 61, 63, 65, 67, 69, 71, 73, 75, 77, 79, 81, 83, 85, 87, 89, 91, 93, 95, 97, 99]\n"
     ]
    }
   ],
   "source": [
    "#list creation using the range function. 1 is the starting value, 100 is the ending value\n",
    "#and the increment is 2\n",
    "first_list = list(range(1,100,2))\n",
    "print(first_list)"
   ]
  },
  {
   "cell_type": "code",
   "execution_count": 2,
   "id": "274ac1bd-30d8-47a9-bc07-eb41e3591c71",
   "metadata": {},
   "outputs": [
    {
     "name": "stdout",
     "output_type": "stream",
     "text": [
      "[1, 9, 25, 49, 81, 121, 169, 225, 289, 361, 441, 529, 625, 729, 841, 961, 1089, 1225, 1369, 1521, 1681, 1849, 2025, 2209, 2401, 2601, 2809, 3025, 3249, 3481, 3721, 3969, 4225, 4489, 4761, 5041, 5329, 5625, 5929, 6241, 6561, 6889, 7225, 7569, 7921, 8281, 8649, 9025, 9409, 9801]\n"
     ]
    }
   ],
   "source": [
    "#squaring each element of first_list using for loop\n",
    "square_of_first_list=[]\n",
    "for i in first_list:\n",
    "    j=i**2\n",
    "    square_of_first_list.append(j)\n",
    "\n",
    "print(square_of_first_list)"
   ]
  },
  {
   "cell_type": "code",
   "execution_count": 53,
   "id": "6e29cd3f-79e0-4d01-86b2-dc0709b420db",
   "metadata": {},
   "outputs": [
    {
     "name": "stdout",
     "output_type": "stream",
     "text": [
      "50\n"
     ]
    }
   ],
   "source": [
    "#displaying the length of first_list(the total elements in the list)\n",
    "print(len(first_list))"
   ]
  },
  {
   "cell_type": "code",
   "execution_count": 72,
   "id": "c6c042c0-47f9-4ab3-bc83-a4ca7b192ac8",
   "metadata": {},
   "outputs": [
    {
     "name": "stdout",
     "output_type": "stream",
     "text": [
      "[1, 9, 25, 49, 81, 121, 169, 225, 289, 361, 441, 529, 625, 729, 841, 961, 1089, 1225, 1369, 1521, 1681, 1849, 2025, 2209, 2401, 2601, 2809, 3025, 3249, 3481, 3721, 3969, 4225, 4489, 4761, 5041, 5329, 5625, 5929, 6241, 1, 4, 9, 529, 4, 4, 16, 25, 25, 36]\n"
     ]
    }
   ],
   "source": [
    "#squaring each element of first_list using while loop\n",
    "square_of_first_list1 = []\n",
    "i= 0\n",
    "while i < 50:\n",
    "    x=first_list[i]**2\n",
    "    square_of_first_list1.append(x)\n",
    "    i = i+1\n",
    "\n",
    "print(square_of_first_list1)"
   ]
  },
  {
   "cell_type": "code",
   "execution_count": 12,
   "id": "33405fd6-13a3-4e62-a41d-b7e3d7dd8dec",
   "metadata": {},
   "outputs": [
    {
     "name": "stdout",
     "output_type": "stream",
     "text": [
      "[1, 9, 25, 49, 81, 121, 169, 225, 289, 361, 441, 529, 625, 729, 841, 961, 1089, 1225, 1369, 1521, 1681, 1849, 2025, 2209, 2401, 2601, 2809, 3025, 3249, 3481, 3721, 3969, 4225, 4489, 4761, 5041, 5329, 5625, 5929, 6241, 6561, 6889, 7225, 7569, 7921, 8281, 8649, 9025, 9409, 9801]\n"
     ]
    }
   ],
   "source": [
    "#squaring each element of first_list using lambda and map function\n",
    "y= lambda x : x**2\n",
    "square_of_first_list2 = list(map(y, first_list))\n",
    "print(square_of_first_list2 )"
   ]
  },
  {
   "cell_type": "code",
   "execution_count": 14,
   "id": "ba609301-4ae9-412b-aae4-9414ca578790",
   "metadata": {},
   "outputs": [
    {
     "name": "stdout",
     "output_type": "stream",
     "text": [
      "[1, 9, 25, 49, 81, 121, 169, 225, 289, 361, 441, 529, 625, 729, 841, 961, 1089, 1225, 1369, 1521, 1681, 1849, 2025, 2209, 2401, 2601, 2809, 3025, 3249, 3481, 3721, 3969, 4225, 4489, 4761, 5041, 5329, 5625, 5929, 6241, 6561, 6889, 7225, 7569, 7921, 8281, 8649, 9025, 9409, 9801]\n"
     ]
    }
   ],
   "source": [
    "#squaring each element of first_list using list comprehension\n",
    "square_of_first_list3 = [ x**2 for x in first_list]\n",
    "print(square_of_first_list3)"
   ]
  },
  {
   "cell_type": "code",
   "execution_count": 15,
   "id": "290e80fd-d2a1-4ef7-94dd-1d1cf14cca2a",
   "metadata": {},
   "outputs": [
    {
     "data": {
      "text/plain": [
       "1"
      ]
     },
     "execution_count": 15,
     "metadata": {},
     "output_type": "execute_result"
    }
   ],
   "source": [
    "#displaying the first element in the first_list\n",
    "first_list[0]"
   ]
  },
  {
   "cell_type": "code",
   "execution_count": 17,
   "id": "52d3fbcd-3e1f-4603-9752-8e4c2683feb2",
   "metadata": {},
   "outputs": [
    {
     "data": {
      "text/plain": [
       "[1, 3, 5, 7, 9, 11, 13, 15, 17, 19]"
      ]
     },
     "execution_count": 17,
     "metadata": {},
     "output_type": "execute_result"
    }
   ],
   "source": [
    "#displaying the first ten elements in the first_list\n",
    "first_list[0:10]"
   ]
  },
  {
   "cell_type": "code",
   "execution_count": 18,
   "id": "ab487194-061b-4a65-aa68-8ff396694106",
   "metadata": {},
   "outputs": [
    {
     "data": {
      "text/plain": [
       "[1, 7, 13, 19, 25, 31, 37, 43, 49, 55, 61, 67, 73, 79, 85, 91, 97]"
      ]
     },
     "execution_count": 18,
     "metadata": {},
     "output_type": "execute_result"
    }
   ],
   "source": [
    "#displaying the first element in the first_list\n",
    "first_list[0::3]"
   ]
  },
  {
   "cell_type": "code",
   "execution_count": 35,
   "id": "54426bf2-4fd3-4031-8055-d915a7bc5908",
   "metadata": {
    "scrolled": true
   },
   "outputs": [
    {
     "name": "stdout",
     "output_type": "stream",
     "text": [
      "[1, 3, 5, 7, 9, 11, 13, 15, 17, 19, 21, 23, 25, 27, 29, 31, 33, 35, 37, 39, 41, 43, 45, 47, 49, 51, 53, 55, 57, 59, 61, 63, 65, 67, 69, 71, 73, 75, 77, 79, 1, 2, 3, 23, 2, 2, 4, 5, 5, 6]\n"
     ]
    }
   ],
   "source": [
    "#displaying the last element in the first_list\n",
    "first_list [-10:]"
   ]
  },
  {
   "cell_type": "code",
   "execution_count": 40,
   "id": "0e2d60dc-5dc1-4fc7-9bf5-96e2050850b1",
   "metadata": {},
   "outputs": [
    {
     "data": {
      "text/plain": [
       "(1, 2, 3, 2, 4, 6)"
      ]
     },
     "execution_count": 40,
     "metadata": {},
     "output_type": "execute_result"
    }
   ],
   "source": [
    "#creating first_tuple, second_tuple and summing them\n",
    "first_tuple, second_tuple = (1,2,3), (2,4,6)\n",
    "first_tuple+ second_tuple"
   ]
  },
  {
   "cell_type": "code",
   "execution_count": 34,
   "id": "1c9c425f-140a-4de2-afab-e5802a87b3c5",
   "metadata": {},
   "outputs": [
    {
     "data": {
      "text/plain": [
       "3"
      ]
     },
     "execution_count": 34,
     "metadata": {},
     "output_type": "execute_result"
    }
   ],
   "source": [
    "#displaying the third element of first_tuple\n",
    "first_tuple[2]"
   ]
  },
  {
   "cell_type": "code",
   "execution_count": 38,
   "id": "beddc479-74b8-4299-b6c0-d5d3c8e8ca1f",
   "metadata": {},
   "outputs": [
    {
     "name": "stdout",
     "output_type": "stream",
     "text": [
      "[1, 7, 13, 19, 25, 31, 37, 43, 49, 55, 61, 67, 73, 79, 3, 2, 5, 1, 2, 3, 23, 2, 2, 4, 5, 5, 6]\n"
     ]
    }
   ],
   "source": [
    "#creating a tuple of lists\n",
    "tuple_list = (first_list[0::3], first_list [-10:], first_list[0:10])\n",
    "print(tuple_list[0] + tuple_list[1])"
   ]
  },
  {
   "cell_type": "code",
   "execution_count": 71,
   "id": "bc1bc8d9-8aef-4796-afea-9f701927ff63",
   "metadata": {},
   "outputs": [
    {
     "data": {
      "text/plain": [
       "(False, True)"
      ]
     },
     "execution_count": 71,
     "metadata": {},
     "output_type": "execute_result"
    }
   ],
   "source": [
    "#creating a tuple of boolean values assigned to the variable boolean_tuple\n",
    "x=5.0\n",
    "y='book'\n",
    "boolean_tuple = ((isinstance(x, int), isinstance(y, str)))\n",
    "boolean_tuple"
   ]
  },
  {
   "cell_type": "code",
   "execution_count": 45,
   "id": "1c0c3a9e-7680-4884-9001-1418a2f525cb",
   "metadata": {},
   "outputs": [
    {
     "data": {
      "text/plain": [
       "(['A', 'B', 'C', 'D'], ['animals', 'balls', 'chairs', 8])"
      ]
     },
     "execution_count": 45,
     "metadata": {},
     "output_type": "execute_result"
    }
   ],
   "source": [
    "#creating a dictionary and assigning it to the variable first_dict\n",
    "first_dict = {'A': 'animals', 'B': 'balls', 'C': 'chairs', 'D': 8}\n",
    "list(first_dict.keys()),list(first_dict.values())"
   ]
  },
  {
   "cell_type": "code",
   "execution_count": 46,
   "id": "3f8f13eb-d7d7-49f0-8afd-d3b00b10ee35",
   "metadata": {},
   "outputs": [
    {
     "data": {
      "text/plain": [
       "{'A': 2, 'B': 'balls', 'C': 'chairs', 'D': 8}"
      ]
     },
     "execution_count": 46,
     "metadata": {},
     "output_type": "execute_result"
    }
   ],
   "source": [
    "#extracting the value for the key 'A'\n",
    "first_dict['A']"
   ]
  },
  {
   "cell_type": "code",
   "execution_count": 74,
   "id": "c946d9a5-3b6e-4fdc-9008-5716b808adc7",
   "metadata": {},
   "outputs": [
    {
     "data": {
      "text/plain": [
       "(dict_keys(['A', 'B', 'C']), dict_values([2, 'balls', 'chairs']))"
      ]
     },
     "execution_count": 74,
     "metadata": {},
     "output_type": "execute_result"
    }
   ],
   "source": [
    "#displaying the keys and values of the dictionary first_keys\n",
    "first_dict.keys(), first_dict.values()"
   ]
  },
  {
   "cell_type": "code",
   "execution_count": null,
   "id": "48915a68-6aab-48b5-880b-72ba3c19e06b",
   "metadata": {},
   "outputs": [],
   "source": [
    "#deleting the key 'D'(with it's value) in first_dict\n",
    "del first_dict['D']\n",
    "first_dict"
   ]
  },
  {
   "cell_type": "code",
   "execution_count": 48,
   "id": "f2b5d710-8997-44e6-986b-208c2de8eac7",
   "metadata": {},
   "outputs": [
    {
     "name": "stdout",
     "output_type": "stream",
     "text": [
      "Requirement already satisfied: numpy in /Library/Frameworks/Python.framework/Versions/3.12/lib/python3.12/site-packages (1.26.2)\n"
     ]
    }
   ],
   "source": [
    "#installing numpy package\n",
    "!pip install numpy"
   ]
  },
  {
   "cell_type": "markdown",
   "id": "7ecd4bdd-53b0-4390-a90f-91a78cd8b406",
   "metadata": {},
   "source": [
    "As an exercise please install numpy, pandas, matplotlib and seaborn using the following commands:\n",
    "!pip install numpy\n",
    "!pip install matplotlib\n",
    "!pip install pandas\n",
    "!pip install seaborn"
   ]
  }
 ],
 "metadata": {
  "kernelspec": {
   "display_name": "Python 3 (ipykernel)",
   "language": "python",
   "name": "python3"
  },
  "language_info": {
   "codemirror_mode": {
    "name": "ipython",
    "version": 3
   },
   "file_extension": ".py",
   "mimetype": "text/x-python",
   "name": "python",
   "nbconvert_exporter": "python",
   "pygments_lexer": "ipython3",
   "version": "3.12.0"
  }
 },
 "nbformat": 4,
 "nbformat_minor": 5
}
