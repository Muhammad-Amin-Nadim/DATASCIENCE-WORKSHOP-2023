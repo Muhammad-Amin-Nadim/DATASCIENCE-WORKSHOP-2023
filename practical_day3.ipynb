{
 "cells": [
  {
   "cell_type": "markdown",
   "id": "02207c52-18f7-4d62-9e77-d3e91bc035f8",
   "metadata": {},
   "source": [
    "In the first exercise, we are going to write an if else statement which accepts two floats and tell you if the integer part of the first float is less than the integer part of the second float or otherwise. "
   ]
  },
  {
   "cell_type": "code",
   "execution_count": 5,
   "id": "d40acf7d-959d-4736-ac4a-17e8405b7d2e",
   "metadata": {},
   "outputs": [
    {
     "name": "stdin",
     "output_type": "stream",
     "text": [
      " 9 \n",
      " 8\n"
     ]
    },
    {
     "name": "stdout",
     "output_type": "stream",
     "text": [
      "9 is greater or equal to 8\n"
     ]
    }
   ],
   "source": [
    "#input() function allows a user to input a value. float() function converts the inputed value\n",
    "#to a float and then int() function further converts the float to an integer\n",
    "x = int(float(input()))\n",
    "y = int(float(input()))\n",
    "#we set the condition here that if x<y then we print the statement out in words, and if\n",
    "#otherwise, we also do the same\n",
    "if x < y:\n",
    "    print(f'{x} is smaller than {y}')\n",
    "else:\n",
    "    print(f'{x} is greater or equal to {y}')"
   ]
  },
  {
   "cell_type": "code",
   "execution_count": 6,
   "id": "cb6cca1d-13df-434a-953d-8718ebcda5bf",
   "metadata": {},
   "outputs": [],
   "source": [
    "#we import the numpy package here and use the alias np(so whenever we need to call numpy\n",
    "#we could simply write np)\n",
    "import numpy as np"
   ]
  },
  {
   "cell_type": "code",
   "execution_count": 9,
   "id": "b105f605-a9b4-4bd4-91ac-923851531c82",
   "metadata": {},
   "outputs": [
    {
     "data": {
      "text/plain": [
       "array([4, 6])"
      ]
     },
     "execution_count": 9,
     "metadata": {},
     "output_type": "execute_result"
    }
   ],
   "source": [
    "#here we create two arrays array1 and array2 and we sum them\n",
    "#numpy sums arrays component wise\n",
    "array1, array2 = np.array([1,2]), np.array([3,4])\n",
    "array1+array2"
   ]
  },
  {
   "cell_type": "code",
   "execution_count": 54,
   "id": "c5ace500-7f98-4d6a-8754-67cfe766aeff",
   "metadata": {},
   "outputs": [
    {
     "data": {
      "text/plain": [
       "(array([[0., 0., 0., 0.],\n",
       "        [0., 0., 0., 0.],\n",
       "        [0., 0., 0., 0.],\n",
       "        [0., 0., 0., 0.]]),\n",
       " array([[5., 5., 5.],\n",
       "        [5., 5., 5.],\n",
       "        [5., 5., 5.]]))"
      ]
     },
     "execution_count": 54,
     "metadata": {},
     "output_type": "execute_result"
    }
   ],
   "source": [
    "#here we use numpy to create matrices containing only zeros and only fives\n",
    "np.zeros(shape = (4,4)), np.ones(shape = (3,3))*5"
   ]
  },
  {
   "cell_type": "code",
   "execution_count": 13,
   "id": "35f7cce0-cc3f-46c6-bc66-313de997ba57",
   "metadata": {},
   "outputs": [
    {
     "data": {
      "text/plain": [
       "array([ 7, 14, 21, 28])"
      ]
     },
     "execution_count": 13,
     "metadata": {},
     "output_type": "execute_result"
    }
   ],
   "source": [
    "#here we multiply the 1 by 4(meaning one row and 4 columns) by 7\n",
    "#when we multiply a numpy array by a scalar, numpy multiplies each component by the scalar\n",
    "np.array([1,2,3,4])*7"
   ]
  },
  {
   "cell_type": "code",
   "execution_count": 15,
   "id": "d7058e6e-71e1-42a0-bd5a-d76cd54d3907",
   "metadata": {},
   "outputs": [
    {
     "data": {
      "text/plain": [
       "array([[1, 2],\n",
       "       [3, 4],\n",
       "       [5, 6]])"
      ]
     },
     "execution_count": 15,
     "metadata": {},
     "output_type": "execute_result"
    }
   ],
   "source": [
    "#here we create a 2 by 3 numpy array by first creating a list of lists and then\n",
    "#using the np.array() function to convert it to a numpy array\n",
    "np.array([[1,2],[3,4], [5,6]])"
   ]
  },
  {
   "cell_type": "code",
   "execution_count": 16,
   "id": "f3ebf6ac-2a3b-4161-9183-b7fbd53bbab6",
   "metadata": {},
   "outputs": [
    {
     "data": {
      "text/plain": [
       "array([[0.5, 1. ],\n",
       "       [1.5, 2. ],\n",
       "       [2.5, 3. ]])"
      ]
     },
     "execution_count": 16,
     "metadata": {},
     "output_type": "execute_result"
    }
   ],
   "source": [
    "#here we divide a 2 by 3 array by 2\n",
    "#division is also done component wise\n",
    "np.array([[1,2],[3,4], [5,6]])/2"
   ]
  },
  {
   "cell_type": "code",
   "execution_count": 19,
   "id": "16c4233e-a6db-4f54-9a06-6ba82d8ff65b",
   "metadata": {},
   "outputs": [
    {
     "data": {
      "text/plain": [
       "(array([[1, 4, 8],\n",
       "        [2, 3, 9],\n",
       "        [2, 2, 4]]),\n",
       " array([[1, 2, 2],\n",
       "        [4, 3, 2],\n",
       "        [8, 9, 4]]))"
      ]
     },
     "execution_count": 19,
     "metadata": {},
     "output_type": "execute_result"
    }
   ],
   "source": [
    "#here we create a 3 by 3 matrix A and use the transpose function to find it's transpose\n",
    "A = np.array([[1,4,8],[2,3,9],[2,2,4]])\n",
    "A, A.transpose()"
   ]
  },
  {
   "cell_type": "code",
   "execution_count": 55,
   "id": "77942131-43e0-4a10-a80f-9d53dc59dfaa",
   "metadata": {},
   "outputs": [
    {
     "data": {
      "text/plain": [
       "(3, array([1, 4, 8]), array([1, 2, 2]))"
      ]
     },
     "execution_count": 55,
     "metadata": {},
     "output_type": "execute_result"
    }
   ],
   "source": [
    "#here we extract the element of the matrix A in the second row and second column\n",
    "#we then extract the first row\n",
    "#and then we extract the third column\n",
    "A[1,1], A[0], A[:,0]"
   ]
  },
  {
   "cell_type": "code",
   "execution_count": null,
   "id": "ee08e96b-6c0e-4895-9ce5-19d0b0bfb2a0",
   "metadata": {},
   "outputs": [],
   "source": [
    "## here we set B as the transpose of A. Then we use for loop to multiply the matrices A and B\n",
    "#please read about how to multiply matrices so you can understand the code here\n",
    "B= A.transpose()\n",
    "#we first create a 3 by 3 matrix C having zeros as it's values this is because we want to \n",
    "#have a space we can fit in the result from the multiplication into\n",
    "C= np.zeros(shape = (3,3))\n",
    "for i in [0,1,2]:\n",
    "    for j in [0,1,2]:\n",
    "        C[i,j]= (A[i]* B[j]).sum()# we replace the values of every element in C with the\n",
    "        #new values we have from multiplication\n",
    "\n",
    "C"
   ]
  },
  {
   "cell_type": "code",
   "execution_count": 59,
   "id": "3595546d-bdbd-4dc0-983f-3cf41e9a03ef",
   "metadata": {},
   "outputs": [
    {
     "data": {
      "text/plain": [
       "39.888888888888886"
      ]
     },
     "execution_count": 59,
     "metadata": {},
     "output_type": "execute_result"
    }
   ],
   "source": [
    "#here we use the mean() function to find the mean(average) of all the values in the matrix C\n",
    "#you can try doing the same thing with the function median()\n",
    "C.mean()"
   ]
  },
  {
   "cell_type": "code",
   "execution_count": 31,
   "id": "a9327edb-8c63-4d8c-ab8e-b72db2ab7ce5",
   "metadata": {},
   "outputs": [],
   "source": [
    "#here we import matplotlib for plotting graphs\n",
    "import matplotlib.pyplot as plt"
   ]
  },
  {
   "cell_type": "code",
   "execution_count": 41,
   "id": "62c44bbf-920c-4bd7-9791-1c15f3678b7a",
   "metadata": {},
   "outputs": [
    {
     "data": {
      "text/plain": [
       "(array([0.  , 0.05, 0.1 , 0.15, 0.2 , 0.25, 0.3 , 0.35, 0.4 , 0.45, 0.5 ,\n",
       "        0.55, 0.6 , 0.65, 0.7 , 0.75, 0.8 , 0.85, 0.9 , 0.95]),\n",
       " array([0.    , 0.0025, 0.01  , 0.0225, 0.04  , 0.0625, 0.09  , 0.1225,\n",
       "        0.16  , 0.2025, 0.25  , 0.3025, 0.36  , 0.4225, 0.49  , 0.5625,\n",
       "        0.64  , 0.7225, 0.81  , 0.9025]))"
      ]
     },
     "execution_count": 41,
     "metadata": {},
     "output_type": "execute_result"
    }
   ],
   "source": [
    "#here we create two numpy arrays first with the arange function and then we map the values\n",
    "#from the arange function with the map f(x)= x**2\n",
    "value_domain = np.arange(0,1,0.05)\n",
    "value_range = np.array(list(map(lambda y : y**2, value_domain)))\n",
    "value_domain, value_range"
   ]
  },
  {
   "cell_type": "code",
   "execution_count": 72,
   "id": "703df471-0a94-46e5-a3dc-ad5e9da4395e",
   "metadata": {},
   "outputs": [
    {
     "data": {
      "image/png": "[encoded data removed]",
      "text/plain": [
       "<Figure size 640x480 with 1 Axes>"
      ]
     },
     "metadata": {},
     "output_type": "display_data"
    }
   ],
   "source": [
    "#here we plot value_domain against value_range\n",
    "#you could try changing the colour of your line to green for example\n",
    "plt.plot(value_domain,  value_range , color = 'red',linestyle= '--', marker = 'o')\n",
    "plt.xlabel('value_domain')\n",
    "plt.ylabel('value_range')\n",
    "plt.title('first plot')\n",
    "plt.show()\n"
   ]
  },
  {
   "cell_type": "code",
   "execution_count": 49,
   "id": "d69ebf13-7b07-4df1-af5e-79d85f9a4b67",
   "metadata": {},
   "outputs": [],
   "source": [
    "#importing pandas\n",
    "import pandas as pd"
   ]
  },
  {
   "cell_type": "code",
   "execution_count": 52,
   "id": "ccce8768-0f0c-41c3-b261-74c8d535ea09",
   "metadata": {},
   "outputs": [
    {
     "data": {
      "text/html": [
       "<div>\n",
       "<style scoped>\n",
       "    .dataframe tbody tr th:only-of-type {\n",
       "        vertical-align: middle;\n",
       "    }\n",
       "\n",
       "    .dataframe tbody tr th {\n",
       "        vertical-align: top;\n",
       "    }\n",
       "\n",
       "    .dataframe thead th {\n",
       "        text-align: right;\n",
       "    }\n",
       "</style>\n",
       "<table border=\"1\" class=\"dataframe\">\n",
       "  <thead>\n",
       "    <tr style=\"text-align: right;\">\n",
       "      <th></th>\n",
       "      <th>A</th>\n",
       "      <th>B</th>\n",
       "      <th>C</th>\n",
       "      <th>D</th>\n",
       "    </tr>\n",
       "  </thead>\n",
       "  <tbody>\n",
       "    <tr>\n",
       "      <th>0</th>\n",
       "      <td>animals</td>\n",
       "      <td>balls</td>\n",
       "      <td>chairs</td>\n",
       "      <td>Dogs</td>\n",
       "    </tr>\n",
       "    <tr>\n",
       "      <th>1</th>\n",
       "      <td>antelopes</td>\n",
       "      <td>books</td>\n",
       "      <td>cows</td>\n",
       "      <td>Daisies</td>\n",
       "    </tr>\n",
       "    <tr>\n",
       "      <th>2</th>\n",
       "      <td>lizards</td>\n",
       "      <td>bridges</td>\n",
       "      <td>crows</td>\n",
       "      <td>Dragons</td>\n",
       "    </tr>\n",
       "  </tbody>\n",
       "</table>\n",
       "</div>"
      ],
      "text/plain": [
       "           A        B       C        D\n",
       "0    animals    balls  chairs     Dogs\n",
       "1  antelopes    books    cows  Daisies\n",
       "2    lizards  bridges   crows  Dragons"
      ]
     },
     "execution_count": 52,
     "metadata": {},
     "output_type": "execute_result"
    }
   ],
   "source": [
    "#here we create our first dataframe from a dictionary of lists\n",
    "first_dict = {'A': ['animals', 'antelopes', 'lizards'], 'B':['balls', 'books', 'bridges'], 'C': ['chairs','cows', 'crows'], 'D': ['Dogs', 'Daisies', 'Dragons']}\n",
    "pd.DataFrame(first_dict)"
   ]
  },
  {
   "cell_type": "markdown",
   "id": "0cfa4484-ceee-4da7-9132-2b8995a47b05",
   "metadata": {},
   "source": [
    "As an exercise, try to create a pandas dataframe with the column names: Name, country, gender(Instead of A, B, C, D as above). In the columns, we should have the following entries\n",
    "Name: Aisha, Aya, Abdul, Ada, Rachel\n",
    "Country: Nigeria, Morocco, Ghana, Tanzania, Liberia\n",
    "Gender: F, F, M, F, F"
   ]
  },
  {
   "cell_type": "markdown",
   "id": "c88698fd-7b6f-4244-bf39-3f9ad80b1b4b",
   "metadata": {},
   "source": [
    "As a second exercise, create a 3 by 3 numpy array,say M. use the .min() function (e.g. M.min()) to find the minimum value in each row of the matrix M. Remember you would first have to extract the rows of the matrix M before applying the .min() function"
   ]
  }
 ],
 "metadata": {
  "kernelspec": {
   "display_name": "Python 3 (ipykernel)",
   "language": "python",
   "name": "python3"
  },
  "language_info": {
   "codemirror_mode": {
    "name": "ipython",
    "version": 3
   },
   "file_extension": ".py",
   "mimetype": "text/x-python",
   "name": "python",
   "nbconvert_exporter": "python",
   "pygments_lexer": "ipython3",
   "version": "3.12.0"
  }
 },
 "nbformat": 4,
 "nbformat_minor": 5
}
